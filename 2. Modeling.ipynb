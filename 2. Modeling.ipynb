{
 "cells": [
  {
   "cell_type": "markdown",
   "id": "89fb414e",
   "metadata": {},
   "source": [
    "## Imports"
   ]
  },
  {
   "cell_type": "code",
   "execution_count": null,
   "id": "78684963",
   "metadata": {
    "scrolled": true
   },
   "outputs": [],
   "source": [
    "# !pip install numpy==1.23.5\n",
    "# !pip install -U pip setuptools wheel\n",
    "# !pip install -U 'spacy[cuda-autodetect]'\n",
    "# !python -m spacy download en_core_web_sm\n",
    "# !python -m spacy download en_core_web_md"
   ]
  },
  {
   "cell_type": "code",
   "execution_count": null,
   "id": "80eade3b",
   "metadata": {},
   "outputs": [],
   "source": [
    "#!pip install numpy requests nlpaug\n",
    "#!pip install torch>=1.6.0 transformers>=4.11.3 sentencepiece"
   ]
  },
  {
   "cell_type": "code",
   "execution_count": null,
   "id": "1be58ce7",
   "metadata": {},
   "outputs": [],
   "source": [
    "import pandas as pd\n",
    "import numpy as np\n",
    "from nltk.tokenize import word_tokenize\n",
    "from bs4 import BeautifulSoup\n",
    "import unicodedata\n",
    "import re\n",
    "from tqdm import tqdm\n",
    "import os\n",
    "\n",
    "import itertools\n",
    "import spacy\n",
    "import nltk\n",
    "nltk.download('punkt')\n",
    "nltk.download('stopwords')\n",
    "nltk.download('wordnet')\n",
    "nltk.download('averaged_perceptron_tagger')\n",
    "nltk.download('maxent_ne_chunker')\n",
    "nltk.download('omw-1.4')\n",
    "from nltk.corpus import stopwords\n",
    "from nltk.corpus import wordnet\n",
    "from nltk import pos_tag\n",
    "from nltk import ne_chunk\n",
    "from nltk.stem.porter import PorterStemmer\n",
    "from nltk.stem.wordnet import WordNetLemmatizer\n",
    "from nltk.probability import FreqDist\n",
    "import nlpaug.augmenter.word as naw\n",
    "\n",
    "import warnings\n",
    "warnings.filterwarnings(\"ignore\")\n",
    "\n",
    "import matplotlib.pyplot as plt\n",
    "\n",
    "pd.set_option('display.max_colwidth', 30)"
   ]
  },
  {
   "cell_type": "markdown",
   "id": "1b8049c2",
   "metadata": {},
   "source": [
    "# Modeling(Model-6,7,8 - Kfold[0~3])"
   ]
  },
  {
   "cell_type": "markdown",
   "id": "aec171da",
   "metadata": {},
   "source": [
    "## Use tokenizer"
   ]
  },
  {
   "cell_type": "code",
   "execution_count": null,
   "id": "11bd58fe",
   "metadata": {},
   "outputs": [],
   "source": [
    "train = pd.read_csv('./train_last_3.csv')\n",
    "test = pd.read_csv('./test_last_3.csv')"
   ]
  },
  {
   "cell_type": "code",
   "execution_count": 4,
   "id": "67c879de",
   "metadata": {},
   "outputs": [],
   "source": [
    "train = pd.read_csv('./data/train_last_3.csv')\n",
    "test = pd.read_csv('./data/test_last_3.csv')"
   ]
  },
  {
   "cell_type": "code",
   "execution_count": 5,
   "id": "66fdc475",
   "metadata": {},
   "outputs": [],
   "source": [
    "from transformers import AutoTokenizer, AutoConfig, AutoModelForSequenceClassification, AdamW\n",
    "import torch\n",
    "from torch.utils.data import Dataset, DataLoader\n",
    "from sklearn.model_selection import StratifiedKFold\n",
    "from sklearn.metrics import classification_report, accuracy_score\n",
    "from torch.nn import BCEWithLogitsLoss"
   ]
  },
  {
   "cell_type": "code",
   "execution_count": 6,
   "id": "20bc358f",
   "metadata": {},
   "outputs": [
    {
     "data": {
      "application/vnd.jupyter.widget-view+json": {
       "model_id": "cb3b942201194af79779f1e156d86bd9",
       "version_major": 2,
       "version_minor": 0
      },
      "text/plain": [
       "Downloading tokenizer_config.json:   0%|          | 0.00/454 [00:00<?, ?B/s]"
      ]
     },
     "metadata": {},
     "output_type": "display_data"
    },
    {
     "data": {
      "application/vnd.jupyter.widget-view+json": {
       "model_id": "ba4cc45be01649af97542f77d07a35d2",
       "version_major": 2,
       "version_minor": 0
      },
      "text/plain": [
       "Downloading spm.model:   0%|          | 0.00/2.35M [00:00<?, ?B/s]"
      ]
     },
     "metadata": {},
     "output_type": "display_data"
    },
    {
     "data": {
      "application/vnd.jupyter.widget-view+json": {
       "model_id": "d6ff2e0328c9457bba8af007a0f86bf8",
       "version_major": 2,
       "version_minor": 0
      },
      "text/plain": [
       "Downloading tokenizer.json:   0%|          | 0.00/8.26M [00:00<?, ?B/s]"
      ]
     },
     "metadata": {},
     "output_type": "display_data"
    },
    {
     "data": {
      "application/vnd.jupyter.widget-view+json": {
       "model_id": "00087b274be84b2db0e9070a9992be93",
       "version_major": 2,
       "version_minor": 0
      },
      "text/plain": [
       "Downloading added_tokens.json:   0%|          | 0.00/23.0 [00:00<?, ?B/s]"
      ]
     },
     "metadata": {},
     "output_type": "display_data"
    },
    {
     "data": {
      "application/vnd.jupyter.widget-view+json": {
       "model_id": "22258bfca2f94dc79f420cf577278b90",
       "version_major": 2,
       "version_minor": 0
      },
      "text/plain": [
       "Downloading special_tokens_map.json:   0%|          | 0.00/173 [00:00<?, ?B/s]"
      ]
     },
     "metadata": {},
     "output_type": "display_data"
    },
    {
     "data": {
      "application/vnd.jupyter.widget-view+json": {
       "model_id": "89a16d65e89d4816a6e52737a54fcab3",
       "version_major": 2,
       "version_minor": 0
      },
      "text/plain": [
       "Downloading config.json:   0%|          | 0.00/17.7k [00:00<?, ?B/s]"
      ]
     },
     "metadata": {},
     "output_type": "display_data"
    },
    {
     "data": {
      "application/vnd.jupyter.widget-view+json": {
       "model_id": "58d81ba12d0740b69f25731de71ee97d",
       "version_major": 2,
       "version_minor": 0
      },
      "text/plain": [
       "Downloading pytorch_model.bin:   0%|          | 0.00/704M [00:00<?, ?B/s]"
      ]
     },
     "metadata": {},
     "output_type": "display_data"
    }
   ],
   "source": [
    "model_type = \"sileod/deberta-v3-base-tasksource-nli\"\n",
    "tokenizer = AutoTokenizer.from_pretrained(model_type)\n",
    "config = AutoConfig.from_pretrained(model_type)\n",
    "model_01 = AutoModelForSequenceClassification.from_pretrained(model_type, config=config)\n",
    "model_02 = AutoModelForSequenceClassification.from_pretrained(model_type, config=config)\n",
    "model_03 = AutoModelForSequenceClassification.from_pretrained(model_type, config=config)"
   ]
  },
  {
   "cell_type": "code",
   "execution_count": 7,
   "id": "747d4688",
   "metadata": {},
   "outputs": [],
   "source": [
    "def tokenize_texts(texts, tokenizer, max_len=352):\n",
    "    return tokenizer(texts, padding='max_length', truncation=True, max_length=max_len, add_special_tokens=False , return_tensors='pt')\n",
    "\n",
    "class NewsDataset(Dataset):\n",
    "    def __init__(self, texts, labels, tokenizer, max_len):\n",
    "        self.texts = texts\n",
    "        self.labels = labels\n",
    "        self.tokenizer = tokenizer\n",
    "        self.max_len = max_len\n",
    "\n",
    "    def __len__(self):\n",
    "        return len(self.texts)\n",
    "\n",
    "    def __getitem__(self, idx):\n",
    "        text = self.texts[idx]\n",
    "        label = self.labels[idx]\n",
    "        encoding = tokenize_texts(text, self.tokenizer, self.max_len)\n",
    "        return {'input_ids': encoding['input_ids'][0], 'attention_mask': encoding['attention_mask'][0], 'label': torch.tensor(label)}"
   ]
  },
  {
   "cell_type": "markdown",
   "id": "20f9bda9",
   "metadata": {},
   "source": [
    "## Data_loader"
   ]
  },
  {
   "cell_type": "code",
   "execution_count": 8,
   "id": "1a9f8147",
   "metadata": {},
   "outputs": [],
   "source": [
    "k_folds = [1, 2, 3]\n",
    "train_indices = []\n",
    "val_indices = []"
   ]
  },
  {
   "cell_type": "code",
   "execution_count": 9,
   "id": "24d918ed",
   "metadata": {},
   "outputs": [],
   "source": [
    "train_index = train.iloc[list(range(0, 24780, 10))]"
   ]
  },
  {
   "cell_type": "code",
   "execution_count": 10,
   "id": "b30851ad",
   "metadata": {},
   "outputs": [],
   "source": [
    "skf = StratifiedKFold(n_splits=5, shuffle=True, random_state=42)\n",
    "train_val_splits = list(skf.split(train_index, train_index['first_party_winner']))"
   ]
  },
  {
   "cell_type": "code",
   "execution_count": 11,
   "id": "1466f795",
   "metadata": {},
   "outputs": [],
   "source": [
    "for k_fold in k_folds:\n",
    "    train_train =  list(train_index.iloc[train_val_splits[k_fold][0],:].index)\n",
    "    train_val =  list(train_index.iloc[train_val_splits[k_fold][1],:].index)\n",
    "\n",
    "    train_list = train_train[:]\n",
    "    val_list = train_val[:]\n",
    "\n",
    "    for num in train_train:\n",
    "        for i in range(1, 10):\n",
    "            new_value = num + i\n",
    "            train_list.append(new_value)\n",
    "\n",
    "    for num in train_val:\n",
    "        for i in range(1, 10):\n",
    "            new_value = num + i\n",
    "            val_list.append(new_value)\n",
    "\n",
    "    train_list = sorted(train_list)\n",
    "    val_list = sorted(val_list)\n",
    "\n",
    "    train_indices.append(sorted(train_list))\n",
    "    val_indices.append(sorted(val_list))"
   ]
  },
  {
   "cell_type": "code",
   "execution_count": 12,
   "id": "ca21d955",
   "metadata": {},
   "outputs": [],
   "source": [
    "train_data_01 = train.iloc[train_indices[0]]\n",
    "val_data_01 = train.iloc[val_indices[0]]\n",
    "\n",
    "train_data_02 = train.iloc[train_indices[1]]\n",
    "val_data_02 = train.iloc[val_indices[1]]\n",
    "\n",
    "train_data_03 = train.iloc[train_indices[2]]\n",
    "val_data_03 = train.iloc[val_indices[2]]"
   ]
  },
  {
   "cell_type": "code",
   "execution_count": 13,
   "id": "bb56dcfd",
   "metadata": {},
   "outputs": [],
   "source": [
    "train_dataset_01 = NewsDataset(train_data_01['facts'].to_numpy(), train_data_01['first_party_winner'].to_numpy(), tokenizer, max_len=352)\n",
    "val_dataset_01 = NewsDataset(val_data_01['facts'].to_numpy(), val_data_01['first_party_winner'].to_numpy(), tokenizer, max_len=352)\n",
    "\n",
    "train_dataset_02 = NewsDataset(train_data_02['facts'].to_numpy(), train_data_02['first_party_winner'].to_numpy(), tokenizer, max_len=352)\n",
    "val_dataset_02 = NewsDataset(val_data_02['facts'].to_numpy(), val_data_02['first_party_winner'].to_numpy(), tokenizer, max_len=352)\n",
    "\n",
    "train_dataset_03 = NewsDataset(train_data_03['facts'].to_numpy(), train_data_03['first_party_winner'].to_numpy(), tokenizer, max_len=352)\n",
    "val_dataset_03 = NewsDataset(val_data_03['facts'].to_numpy(), val_data_03['first_party_winner'].to_numpy(), tokenizer, max_len=352)"
   ]
  },
  {
   "cell_type": "code",
   "execution_count": 14,
   "id": "ab12c528",
   "metadata": {},
   "outputs": [],
   "source": [
    "train_loader_01 = DataLoader(train_dataset_01, batch_size=32, shuffle=True)\n",
    "val_loader_01 = DataLoader(val_dataset_01, batch_size=32, shuffle=False)\n",
    "\n",
    "train_loader_02 = DataLoader(train_dataset_02, batch_size=32, shuffle=True)\n",
    "val_loader_02 = DataLoader(val_dataset_02, batch_size=32, shuffle=False)\n",
    "\n",
    "train_loader_03 = DataLoader(train_dataset_03, batch_size=32, shuffle=True)\n",
    "val_loader_03 = DataLoader(val_dataset_03, batch_size=32, shuffle=False)"
   ]
  },
  {
   "cell_type": "markdown",
   "id": "5cf87f67",
   "metadata": {},
   "source": [
    "# Modeling"
   ]
  },
  {
   "cell_type": "code",
   "execution_count": 15,
   "id": "09b914e2",
   "metadata": {},
   "outputs": [
    {
     "data": {
      "text/plain": [
       "DebertaV2ForSequenceClassification(\n",
       "  (deberta): DebertaV2Model(\n",
       "    (embeddings): DebertaV2Embeddings(\n",
       "      (word_embeddings): Embedding(128100, 768, padding_idx=0)\n",
       "      (LayerNorm): LayerNorm((768,), eps=1e-07, elementwise_affine=True)\n",
       "      (dropout): StableDropout()\n",
       "    )\n",
       "    (encoder): DebertaV2Encoder(\n",
       "      (layer): ModuleList(\n",
       "        (0): DebertaV2Layer(\n",
       "          (attention): DebertaV2Attention(\n",
       "            (self): DisentangledSelfAttention(\n",
       "              (query_proj): Linear(in_features=768, out_features=768, bias=True)\n",
       "              (key_proj): Linear(in_features=768, out_features=768, bias=True)\n",
       "              (value_proj): Linear(in_features=768, out_features=768, bias=True)\n",
       "              (pos_dropout): StableDropout()\n",
       "              (dropout): StableDropout()\n",
       "            )\n",
       "            (output): DebertaV2SelfOutput(\n",
       "              (dense): Linear(in_features=768, out_features=768, bias=True)\n",
       "              (LayerNorm): LayerNorm((768,), eps=1e-07, elementwise_affine=True)\n",
       "              (dropout): StableDropout()\n",
       "            )\n",
       "          )\n",
       "          (intermediate): DebertaV2Intermediate(\n",
       "            (dense): Linear(in_features=768, out_features=3072, bias=True)\n",
       "            (intermediate_act_fn): GELUActivation()\n",
       "          )\n",
       "          (output): DebertaV2Output(\n",
       "            (dense): Linear(in_features=3072, out_features=768, bias=True)\n",
       "            (LayerNorm): LayerNorm((768,), eps=1e-07, elementwise_affine=True)\n",
       "            (dropout): StableDropout()\n",
       "          )\n",
       "        )\n",
       "        (1): DebertaV2Layer(\n",
       "          (attention): DebertaV2Attention(\n",
       "            (self): DisentangledSelfAttention(\n",
       "              (query_proj): Linear(in_features=768, out_features=768, bias=True)\n",
       "              (key_proj): Linear(in_features=768, out_features=768, bias=True)\n",
       "              (value_proj): Linear(in_features=768, out_features=768, bias=True)\n",
       "              (pos_dropout): StableDropout()\n",
       "              (dropout): StableDropout()\n",
       "            )\n",
       "            (output): DebertaV2SelfOutput(\n",
       "              (dense): Linear(in_features=768, out_features=768, bias=True)\n",
       "              (LayerNorm): LayerNorm((768,), eps=1e-07, elementwise_affine=True)\n",
       "              (dropout): StableDropout()\n",
       "            )\n",
       "          )\n",
       "          (intermediate): DebertaV2Intermediate(\n",
       "            (dense): Linear(in_features=768, out_features=3072, bias=True)\n",
       "            (intermediate_act_fn): GELUActivation()\n",
       "          )\n",
       "          (output): DebertaV2Output(\n",
       "            (dense): Linear(in_features=3072, out_features=768, bias=True)\n",
       "            (LayerNorm): LayerNorm((768,), eps=1e-07, elementwise_affine=True)\n",
       "            (dropout): StableDropout()\n",
       "          )\n",
       "        )\n",
       "        (2): DebertaV2Layer(\n",
       "          (attention): DebertaV2Attention(\n",
       "            (self): DisentangledSelfAttention(\n",
       "              (query_proj): Linear(in_features=768, out_features=768, bias=True)\n",
       "              (key_proj): Linear(in_features=768, out_features=768, bias=True)\n",
       "              (value_proj): Linear(in_features=768, out_features=768, bias=True)\n",
       "              (pos_dropout): StableDropout()\n",
       "              (dropout): StableDropout()\n",
       "            )\n",
       "            (output): DebertaV2SelfOutput(\n",
       "              (dense): Linear(in_features=768, out_features=768, bias=True)\n",
       "              (LayerNorm): LayerNorm((768,), eps=1e-07, elementwise_affine=True)\n",
       "              (dropout): StableDropout()\n",
       "            )\n",
       "          )\n",
       "          (intermediate): DebertaV2Intermediate(\n",
       "            (dense): Linear(in_features=768, out_features=3072, bias=True)\n",
       "            (intermediate_act_fn): GELUActivation()\n",
       "          )\n",
       "          (output): DebertaV2Output(\n",
       "            (dense): Linear(in_features=3072, out_features=768, bias=True)\n",
       "            (LayerNorm): LayerNorm((768,), eps=1e-07, elementwise_affine=True)\n",
       "            (dropout): StableDropout()\n",
       "          )\n",
       "        )\n",
       "        (3): DebertaV2Layer(\n",
       "          (attention): DebertaV2Attention(\n",
       "            (self): DisentangledSelfAttention(\n",
       "              (query_proj): Linear(in_features=768, out_features=768, bias=True)\n",
       "              (key_proj): Linear(in_features=768, out_features=768, bias=True)\n",
       "              (value_proj): Linear(in_features=768, out_features=768, bias=True)\n",
       "              (pos_dropout): StableDropout()\n",
       "              (dropout): StableDropout()\n",
       "            )\n",
       "            (output): DebertaV2SelfOutput(\n",
       "              (dense): Linear(in_features=768, out_features=768, bias=True)\n",
       "              (LayerNorm): LayerNorm((768,), eps=1e-07, elementwise_affine=True)\n",
       "              (dropout): StableDropout()\n",
       "            )\n",
       "          )\n",
       "          (intermediate): DebertaV2Intermediate(\n",
       "            (dense): Linear(in_features=768, out_features=3072, bias=True)\n",
       "            (intermediate_act_fn): GELUActivation()\n",
       "          )\n",
       "          (output): DebertaV2Output(\n",
       "            (dense): Linear(in_features=3072, out_features=768, bias=True)\n",
       "            (LayerNorm): LayerNorm((768,), eps=1e-07, elementwise_affine=True)\n",
       "            (dropout): StableDropout()\n",
       "          )\n",
       "        )\n",
       "        (4): DebertaV2Layer(\n",
       "          (attention): DebertaV2Attention(\n",
       "            (self): DisentangledSelfAttention(\n",
       "              (query_proj): Linear(in_features=768, out_features=768, bias=True)\n",
       "              (key_proj): Linear(in_features=768, out_features=768, bias=True)\n",
       "              (value_proj): Linear(in_features=768, out_features=768, bias=True)\n",
       "              (pos_dropout): StableDropout()\n",
       "              (dropout): StableDropout()\n",
       "            )\n",
       "            (output): DebertaV2SelfOutput(\n",
       "              (dense): Linear(in_features=768, out_features=768, bias=True)\n",
       "              (LayerNorm): LayerNorm((768,), eps=1e-07, elementwise_affine=True)\n",
       "              (dropout): StableDropout()\n",
       "            )\n",
       "          )\n",
       "          (intermediate): DebertaV2Intermediate(\n",
       "            (dense): Linear(in_features=768, out_features=3072, bias=True)\n",
       "            (intermediate_act_fn): GELUActivation()\n",
       "          )\n",
       "          (output): DebertaV2Output(\n",
       "            (dense): Linear(in_features=3072, out_features=768, bias=True)\n",
       "            (LayerNorm): LayerNorm((768,), eps=1e-07, elementwise_affine=True)\n",
       "            (dropout): StableDropout()\n",
       "          )\n",
       "        )\n",
       "        (5): DebertaV2Layer(\n",
       "          (attention): DebertaV2Attention(\n",
       "            (self): DisentangledSelfAttention(\n",
       "              (query_proj): Linear(in_features=768, out_features=768, bias=True)\n",
       "              (key_proj): Linear(in_features=768, out_features=768, bias=True)\n",
       "              (value_proj): Linear(in_features=768, out_features=768, bias=True)\n",
       "              (pos_dropout): StableDropout()\n",
       "              (dropout): StableDropout()\n",
       "            )\n",
       "            (output): DebertaV2SelfOutput(\n",
       "              (dense): Linear(in_features=768, out_features=768, bias=True)\n",
       "              (LayerNorm): LayerNorm((768,), eps=1e-07, elementwise_affine=True)\n",
       "              (dropout): StableDropout()\n",
       "            )\n",
       "          )\n",
       "          (intermediate): DebertaV2Intermediate(\n",
       "            (dense): Linear(in_features=768, out_features=3072, bias=True)\n",
       "            (intermediate_act_fn): GELUActivation()\n",
       "          )\n",
       "          (output): DebertaV2Output(\n",
       "            (dense): Linear(in_features=3072, out_features=768, bias=True)\n",
       "            (LayerNorm): LayerNorm((768,), eps=1e-07, elementwise_affine=True)\n",
       "            (dropout): StableDropout()\n",
       "          )\n",
       "        )\n",
       "        (6): DebertaV2Layer(\n",
       "          (attention): DebertaV2Attention(\n",
       "            (self): DisentangledSelfAttention(\n",
       "              (query_proj): Linear(in_features=768, out_features=768, bias=True)\n",
       "              (key_proj): Linear(in_features=768, out_features=768, bias=True)\n",
       "              (value_proj): Linear(in_features=768, out_features=768, bias=True)\n",
       "              (pos_dropout): StableDropout()\n",
       "              (dropout): StableDropout()\n",
       "            )\n",
       "            (output): DebertaV2SelfOutput(\n",
       "              (dense): Linear(in_features=768, out_features=768, bias=True)\n",
       "              (LayerNorm): LayerNorm((768,), eps=1e-07, elementwise_affine=True)\n",
       "              (dropout): StableDropout()\n",
       "            )\n",
       "          )\n",
       "          (intermediate): DebertaV2Intermediate(\n",
       "            (dense): Linear(in_features=768, out_features=3072, bias=True)\n",
       "            (intermediate_act_fn): GELUActivation()\n",
       "          )\n",
       "          (output): DebertaV2Output(\n",
       "            (dense): Linear(in_features=3072, out_features=768, bias=True)\n",
       "            (LayerNorm): LayerNorm((768,), eps=1e-07, elementwise_affine=True)\n",
       "            (dropout): StableDropout()\n",
       "          )\n",
       "        )\n",
       "        (7): DebertaV2Layer(\n",
       "          (attention): DebertaV2Attention(\n",
       "            (self): DisentangledSelfAttention(\n",
       "              (query_proj): Linear(in_features=768, out_features=768, bias=True)\n",
       "              (key_proj): Linear(in_features=768, out_features=768, bias=True)\n",
       "              (value_proj): Linear(in_features=768, out_features=768, bias=True)\n",
       "              (pos_dropout): StableDropout()\n",
       "              (dropout): StableDropout()\n",
       "            )\n",
       "            (output): DebertaV2SelfOutput(\n",
       "              (dense): Linear(in_features=768, out_features=768, bias=True)\n",
       "              (LayerNorm): LayerNorm((768,), eps=1e-07, elementwise_affine=True)\n",
       "              (dropout): StableDropout()\n",
       "            )\n",
       "          )\n",
       "          (intermediate): DebertaV2Intermediate(\n",
       "            (dense): Linear(in_features=768, out_features=3072, bias=True)\n",
       "            (intermediate_act_fn): GELUActivation()\n",
       "          )\n",
       "          (output): DebertaV2Output(\n",
       "            (dense): Linear(in_features=3072, out_features=768, bias=True)\n",
       "            (LayerNorm): LayerNorm((768,), eps=1e-07, elementwise_affine=True)\n",
       "            (dropout): StableDropout()\n",
       "          )\n",
       "        )\n",
       "        (8): DebertaV2Layer(\n",
       "          (attention): DebertaV2Attention(\n",
       "            (self): DisentangledSelfAttention(\n",
       "              (query_proj): Linear(in_features=768, out_features=768, bias=True)\n",
       "              (key_proj): Linear(in_features=768, out_features=768, bias=True)\n",
       "              (value_proj): Linear(in_features=768, out_features=768, bias=True)\n",
       "              (pos_dropout): StableDropout()\n",
       "              (dropout): StableDropout()\n",
       "            )\n",
       "            (output): DebertaV2SelfOutput(\n",
       "              (dense): Linear(in_features=768, out_features=768, bias=True)\n",
       "              (LayerNorm): LayerNorm((768,), eps=1e-07, elementwise_affine=True)\n",
       "              (dropout): StableDropout()\n",
       "            )\n",
       "          )\n",
       "          (intermediate): DebertaV2Intermediate(\n",
       "            (dense): Linear(in_features=768, out_features=3072, bias=True)\n",
       "            (intermediate_act_fn): GELUActivation()\n",
       "          )\n",
       "          (output): DebertaV2Output(\n",
       "            (dense): Linear(in_features=3072, out_features=768, bias=True)\n",
       "            (LayerNorm): LayerNorm((768,), eps=1e-07, elementwise_affine=True)\n",
       "            (dropout): StableDropout()\n",
       "          )\n",
       "        )\n",
       "        (9): DebertaV2Layer(\n",
       "          (attention): DebertaV2Attention(\n",
       "            (self): DisentangledSelfAttention(\n",
       "              (query_proj): Linear(in_features=768, out_features=768, bias=True)\n",
       "              (key_proj): Linear(in_features=768, out_features=768, bias=True)\n",
       "              (value_proj): Linear(in_features=768, out_features=768, bias=True)\n",
       "              (pos_dropout): StableDropout()\n",
       "              (dropout): StableDropout()\n",
       "            )\n",
       "            (output): DebertaV2SelfOutput(\n",
       "              (dense): Linear(in_features=768, out_features=768, bias=True)\n",
       "              (LayerNorm): LayerNorm((768,), eps=1e-07, elementwise_affine=True)\n",
       "              (dropout): StableDropout()\n",
       "            )\n",
       "          )\n",
       "          (intermediate): DebertaV2Intermediate(\n",
       "            (dense): Linear(in_features=768, out_features=3072, bias=True)\n",
       "            (intermediate_act_fn): GELUActivation()\n",
       "          )\n",
       "          (output): DebertaV2Output(\n",
       "            (dense): Linear(in_features=3072, out_features=768, bias=True)\n",
       "            (LayerNorm): LayerNorm((768,), eps=1e-07, elementwise_affine=True)\n",
       "            (dropout): StableDropout()\n",
       "          )\n",
       "        )\n",
       "        (10): DebertaV2Layer(\n",
       "          (attention): DebertaV2Attention(\n",
       "            (self): DisentangledSelfAttention(\n",
       "              (query_proj): Linear(in_features=768, out_features=768, bias=True)\n",
       "              (key_proj): Linear(in_features=768, out_features=768, bias=True)\n",
       "              (value_proj): Linear(in_features=768, out_features=768, bias=True)\n",
       "              (pos_dropout): StableDropout()\n",
       "              (dropout): StableDropout()\n",
       "            )\n",
       "            (output): DebertaV2SelfOutput(\n",
       "              (dense): Linear(in_features=768, out_features=768, bias=True)\n",
       "              (LayerNorm): LayerNorm((768,), eps=1e-07, elementwise_affine=True)\n",
       "              (dropout): StableDropout()\n",
       "            )\n",
       "          )\n",
       "          (intermediate): DebertaV2Intermediate(\n",
       "            (dense): Linear(in_features=768, out_features=3072, bias=True)\n",
       "            (intermediate_act_fn): GELUActivation()\n",
       "          )\n",
       "          (output): DebertaV2Output(\n",
       "            (dense): Linear(in_features=3072, out_features=768, bias=True)\n",
       "            (LayerNorm): LayerNorm((768,), eps=1e-07, elementwise_affine=True)\n",
       "            (dropout): StableDropout()\n",
       "          )\n",
       "        )\n",
       "        (11): DebertaV2Layer(\n",
       "          (attention): DebertaV2Attention(\n",
       "            (self): DisentangledSelfAttention(\n",
       "              (query_proj): Linear(in_features=768, out_features=768, bias=True)\n",
       "              (key_proj): Linear(in_features=768, out_features=768, bias=True)\n",
       "              (value_proj): Linear(in_features=768, out_features=768, bias=True)\n",
       "              (pos_dropout): StableDropout()\n",
       "              (dropout): StableDropout()\n",
       "            )\n",
       "            (output): DebertaV2SelfOutput(\n",
       "              (dense): Linear(in_features=768, out_features=768, bias=True)\n",
       "              (LayerNorm): LayerNorm((768,), eps=1e-07, elementwise_affine=True)\n",
       "              (dropout): StableDropout()\n",
       "            )\n",
       "          )\n",
       "          (intermediate): DebertaV2Intermediate(\n",
       "            (dense): Linear(in_features=768, out_features=3072, bias=True)\n",
       "            (intermediate_act_fn): GELUActivation()\n",
       "          )\n",
       "          (output): DebertaV2Output(\n",
       "            (dense): Linear(in_features=3072, out_features=768, bias=True)\n",
       "            (LayerNorm): LayerNorm((768,), eps=1e-07, elementwise_affine=True)\n",
       "            (dropout): StableDropout()\n",
       "          )\n",
       "        )\n",
       "      )\n",
       "      (rel_embeddings): Embedding(512, 768)\n",
       "      (LayerNorm): LayerNorm((768,), eps=1e-07, elementwise_affine=True)\n",
       "    )\n",
       "  )\n",
       "  (pooler): ContextPooler(\n",
       "    (dense): Linear(in_features=768, out_features=768, bias=True)\n",
       "    (dropout): StableDropout()\n",
       "  )\n",
       "  (classifier): Linear(in_features=768, out_features=3, bias=True)\n",
       "  (dropout): StableDropout()\n",
       ")"
      ]
     },
     "execution_count": 15,
     "metadata": {},
     "output_type": "execute_result"
    }
   ],
   "source": [
    "device = torch.device('cuda' if torch.cuda.is_available() else 'cpu')\n",
    "model_01.to(device)\n",
    "model_02.to(device)\n",
    "model_03.to(device)"
   ]
  },
  {
   "cell_type": "code",
   "execution_count": 16,
   "id": "990c69fa",
   "metadata": {},
   "outputs": [],
   "source": [
    "class LabelSmoothingLoss(torch.nn.Module):\n",
    "    def __init__(self, classes, smoothing=0.1, dim=-1):\n",
    "        super(LabelSmoothingLoss, self).__init__()\n",
    "        self.confidence = 1.0 - smoothing\n",
    "        self.smoothing = smoothing\n",
    "        self.cls = classes\n",
    "        self.dim = dim\n",
    "\n",
    "    def forward(self, pred, target):\n",
    "        pred = pred.log_softmax(dim=self.dim)\n",
    "        with torch.no_grad():\n",
    "            true_dist = torch.zeros_like(pred)\n",
    "            true_dist.fill_(self.smoothing / (self.cls - 1))\n",
    "            true_dist.scatter_(1, target.data.unsqueeze(1), self.confidence)\n",
    "        return torch.mean(torch.sum(-true_dist * pred, dim=self.dim))"
   ]
  },
  {
   "cell_type": "code",
   "execution_count": 17,
   "id": "71ffdbd7",
   "metadata": {},
   "outputs": [],
   "source": [
    "optimizer_01 = AdamW(model_01.parameters(), lr=1e-5)\n",
    "optimizer_02 = AdamW(model_02.parameters(), lr=1e-5)\n",
    "optimizer_03 = AdamW(model_03.parameters(), lr=1e-5)"
   ]
  },
  {
   "cell_type": "code",
   "execution_count": 18,
   "id": "67f7b732",
   "metadata": {},
   "outputs": [],
   "source": [
    "# Loss function\n",
    "num_classes = 2\n",
    "smoothing = 0.01\n",
    "criterion = LabelSmoothingLoss(classes=num_classes, smoothing=smoothing).to(device)"
   ]
  },
  {
   "cell_type": "code",
   "execution_count": 19,
   "id": "7f298c35",
   "metadata": {},
   "outputs": [],
   "source": [
    "# Step 7: Training and validation\n",
    "def train(model, data_loader, optimizer, device):\n",
    "    model.train()\n",
    "    losses = []\n",
    "    for batch in data_loader:\n",
    "        input_ids = batch['input_ids'].to(device)\n",
    "        attention_mask = batch['attention_mask'].to(device)\n",
    "        labels = batch['label'].to(device)\n",
    "\n",
    "        outputs = model(input_ids, attention_mask=attention_mask, labels=labels)\n",
    "        logits = outputs.logits\n",
    "\n",
    "        loss = criterion(logits, labels)\n",
    "        losses.append(loss.item())\n",
    "\n",
    "        loss.backward()\n",
    "        optimizer.step()\n",
    "        optimizer.zero_grad()\n",
    "    return np.mean(losses)\n",
    "\n",
    "\n",
    "\n",
    "\n",
    "def eval(model, data_loader, device):\n",
    "    model.eval()\n",
    "    y_true, y_pred = [], []\n",
    "    with torch.no_grad():\n",
    "        for batch in data_loader:\n",
    "            input_ids = batch['input_ids'].to(device)\n",
    "            attention_mask = batch['attention_mask'].to(device)\n",
    "            labels = batch['label'].to(device)\n",
    "            outputs = model(input_ids, attention_mask=attention_mask)\n",
    "            predictions = torch.argmax(outputs.logits, dim=1)\n",
    "            y_true.extend(labels.cpu().numpy())\n",
    "            y_pred.extend(predictions.cpu().numpy())\n",
    "    return y_true, y_pred"
   ]
  },
  {
   "cell_type": "markdown",
   "id": "06d62bcf",
   "metadata": {},
   "source": [
    "## Model_06 - Kfold[1]"
   ]
  },
  {
   "cell_type": "code",
   "execution_count": null,
   "id": "04ae7b43",
   "metadata": {},
   "outputs": [],
   "source": [
    "train_loader = [train_loader_01, train_loader_02, train_loader_03]\n",
    "val_loader = [val_loader_01, val_loader_02, val_loader_03]\n",
    "model_loader = [model_01, model_02, model_03]\n",
    "optimizer_loader = [optimizer_01, optimizer_02, optimizer_03]\n",
    "\n",
    "\n",
    "best_accuracy_01 = 0\n",
    "\n",
    "for epoch in range(10):\n",
    "    print(f\"Epoch: {epoch+1}\")\n",
    "    train_loss = train(model_loader[0], train_loader[0], optimizer_loader[0], device)\n",
    "    print(f\"Train Loss: {train_loss}\")\n",
    "    y_true_train, y_pred_train = eval(model_loader[0], train_loader[0], device)\n",
    "    y_true_val, y_pred_val = eval(model_loader[0], val_loader[0], device)\n",
    "\n",
    "    train_accuracy = accuracy_score(y_true_train, y_pred_train)\n",
    "    val_accuracy = accuracy_score(y_true_val, y_pred_val)\n",
    "\n",
    "    print(f\"Train Accuracy: {train_accuracy}\")\n",
    "    print(f\"Val Accuracy: {val_accuracy}\")\n",
    "    print(classification_report(y_true_val, y_pred_val))\n",
    "\n",
    "    if val_accuracy > best_accuracy_01:\n",
    "        best_accuracy_01 = val_accuracy\n",
    "        torch.save(model_loader[0].state_dict(), f'model_loader[0]_{k_folds[0]}.pt')\n",
    "\n",
    "    torch.cuda.empty_cache()"
   ]
  },
  {
   "cell_type": "code",
   "execution_count": null,
   "id": "af8c47b4",
   "metadata": {},
   "outputs": [],
   "source": [
    "submit = pd.read_csv('./data/sample_submission.csv')"
   ]
  },
  {
   "cell_type": "code",
   "execution_count": null,
   "id": "cffba3af",
   "metadata": {},
   "outputs": [],
   "source": [
    "model_01.load_state_dict(torch.load(f'model_loader[0]_1.pt'))\n",
    "test_dataset = NewsDataset(test['facts'].to_numpy(), np.zeros(len(test)), tokenizer, max_len=352)\n",
    "test_loader = DataLoader(test_dataset, batch_size=32, shuffle=False)\n",
    "_, test_predictions = eval(model_01, test_loader, device)\n",
    "submit['first_party_winner_01'] = test_predictions"
   ]
  },
  {
   "cell_type": "code",
   "execution_count": null,
   "id": "9a2ac92e",
   "metadata": {},
   "outputs": [],
   "source": [
    "submit_01 = submit.copy()"
   ]
  },
  {
   "cell_type": "code",
   "execution_count": null,
   "id": "914d4ed3",
   "metadata": {},
   "outputs": [],
   "source": [
    "submit_01.to_csv('submit_01_version2.csv', index = False)"
   ]
  },
  {
   "cell_type": "markdown",
   "id": "9a37f34f",
   "metadata": {},
   "source": [
    "## Model_07 - Kfold[2]"
   ]
  },
  {
   "cell_type": "code",
   "execution_count": null,
   "id": "9ae9dcce",
   "metadata": {},
   "outputs": [],
   "source": [
    "train_loader = [train_loader_01, train_loader_02, train_loader_03]\n",
    "val_loader = [val_loader_01, val_loader_02, val_loader_03]\n",
    "model_loader = [model_01, model_02, model_03]\n",
    "optimizer_loader = [optimizer_01, optimizer_02, optimizer_03]\n",
    "\n",
    "\n",
    "best_accuracy_02 = 0\n",
    "\n",
    "for epoch in range(10):\n",
    "    print(f\"Epoch: {epoch+1}\")\n",
    "    train_loss = train(model_loader[1], train_loader[1], optimizer_loader[1], device)\n",
    "    print(f\"Train Loss: {train_loss}\")\n",
    "    y_true_train, y_pred_train = eval(model_loader[1], train_loader[1], device)\n",
    "    y_true_val, y_pred_val = eval(model_loader[1], val_loader[1], device)\n",
    "\n",
    "    train_accuracy = accuracy_score(y_true_train, y_pred_train)\n",
    "    val_accuracy = accuracy_score(y_true_val, y_pred_val)\n",
    "\n",
    "    print(f\"Train Accuracy: {train_accuracy}\")\n",
    "    print(f\"Val Accuracy: {val_accuracy}\")\n",
    "    print(classification_report(y_true_val, y_pred_val))\n",
    "\n",
    "    if val_accuracy > best_accuracy_02:\n",
    "        best_accuracy_02 = val_accuracy\n",
    "        torch.save(model_loader[1].state_dict(), f'model_loader[1]_{k_folds[1]}.pt')\n",
    "\n",
    "    torch.cuda.empty_cache()"
   ]
  },
  {
   "cell_type": "code",
   "execution_count": null,
   "id": "b044950e",
   "metadata": {},
   "outputs": [],
   "source": [
    "submit = pd.read_csv('./data/sample_submission.csv')"
   ]
  },
  {
   "cell_type": "code",
   "execution_count": null,
   "id": "a33e2666",
   "metadata": {},
   "outputs": [],
   "source": [
    "model_02.load_state_dict(torch.load(f'model_loader[1]_2.pt'))\n",
    "test_dataset = NewsDataset(test['facts'].to_numpy(), np.zeros(len(test)), tokenizer, max_len=352)\n",
    "test_loader = DataLoader(test_dataset, batch_size=32, shuffle=False)\n",
    "_, test_predictions = eval(model_02, test_loader, device)\n",
    "submit['first_party_winner_02'] = test_predictions"
   ]
  },
  {
   "cell_type": "code",
   "execution_count": null,
   "id": "6a422f4c",
   "metadata": {},
   "outputs": [],
   "source": [
    "submit_02 = submit.copy()"
   ]
  },
  {
   "cell_type": "code",
   "execution_count": null,
   "id": "b4b7a43e",
   "metadata": {},
   "outputs": [],
   "source": [
    "submit_02.to_csv('submit_02_version2.csv', index = False)"
   ]
  },
  {
   "cell_type": "markdown",
   "id": "64903c80",
   "metadata": {},
   "source": [
    "## Model_08 - Kfold[3]"
   ]
  },
  {
   "cell_type": "code",
   "execution_count": null,
   "id": "c6365264",
   "metadata": {},
   "outputs": [],
   "source": [
    "train_loader = [train_loader_01, train_loader_02, train_loader_03]\n",
    "val_loader = [val_loader_01, val_loader_02, val_loader_03]\n",
    "model_loader = [model_01, model_02, model_03]\n",
    "optimizer_loader = [optimizer_01, optimizer_02, optimizer_03]\n",
    "\n",
    "\n",
    "best_accuracy_03 = 0\n",
    "\n",
    "for epoch in range(10):\n",
    "    print(f\"Epoch: {epoch+1}\")\n",
    "    train_loss = train(model_loader[2], train_loader[2], optimizer_loader[2], device)\n",
    "    print(f\"Train Loss: {train_loss}\")\n",
    "    y_true_train, y_pred_train = eval(model_loader[2], train_loader[2], device)\n",
    "    y_true_val, y_pred_val = eval(model_loader[2], val_loader[2], device)\n",
    "\n",
    "    train_accuracy = accuracy_score(y_true_train, y_pred_train)\n",
    "    val_accuracy = accuracy_score(y_true_val, y_pred_val)\n",
    "\n",
    "    print(f\"Train Accuracy: {train_accuracy}\")\n",
    "    print(f\"Val Accuracy: {val_accuracy}\")\n",
    "    print(classification_report(y_true_val, y_pred_val))\n",
    "\n",
    "    if val_accuracy > best_accuracy_03:\n",
    "        best_accuracy_03 = val_accuracy\n",
    "        torch.save(model_loader[2].state_dict(), f'model_loader[2]_{k_folds[2]}.pt')\n",
    "\n",
    "    torch.cuda.empty_cache()"
   ]
  },
  {
   "cell_type": "code",
   "execution_count": null,
   "id": "bc04e946",
   "metadata": {},
   "outputs": [],
   "source": [
    "best_accuracy_03"
   ]
  },
  {
   "cell_type": "code",
   "execution_count": null,
   "id": "88b5f21a",
   "metadata": {},
   "outputs": [],
   "source": [
    "submit = pd.read_csv('./data/sample_submission.csv')"
   ]
  },
  {
   "cell_type": "code",
   "execution_count": null,
   "id": "26555179",
   "metadata": {},
   "outputs": [],
   "source": [
    "model_03.load_state_dict(torch.load(f'model_loader[2]_3.pt'))\n",
    "test_dataset = NewsDataset(test['facts'].to_numpy(), np.zeros(len(test)), tokenizer, max_len=352)\n",
    "test_loader = DataLoader(test_dataset, batch_size=32, shuffle=False)\n",
    "_, test_predictions = eval(model_03, test_loader, device)\n",
    "submit['first_party_winner_03'] = test_predictions"
   ]
  },
  {
   "cell_type": "code",
   "execution_count": null,
   "id": "7bcfca1f",
   "metadata": {},
   "outputs": [],
   "source": [
    "submit_03 = submit.copy()"
   ]
  },
  {
   "cell_type": "code",
   "execution_count": null,
   "id": "8b6dfe13",
   "metadata": {},
   "outputs": [],
   "source": [
    "submit_03.to_csv('submit_03_version2.csv', index = False)"
   ]
  },
  {
   "cell_type": "markdown",
   "id": "00369400",
   "metadata": {},
   "source": [
    "# Modeling(Model-6,7,8 - Kfold[0~3])"
   ]
  },
  {
   "cell_type": "code",
   "execution_count": null,
   "id": "66a8ac70",
   "metadata": {},
   "outputs": [],
   "source": [
    "train = pd.read_csv('/data/train_last_3.csv')\n",
    "test = pd.read_csv('/data/test_last_3.csv')"
   ]
  },
  {
   "cell_type": "code",
   "execution_count": null,
   "id": "2b76ee62",
   "metadata": {},
   "outputs": [],
   "source": [
    "model_type = \"sileod/deberta-v3-base-tasksource-nli\"\n",
    "tokenizer = AutoTokenizer.from_pretrained(model_type)\n",
    "config = AutoConfig.from_pretrained(model_type)\n",
    "model_01 = AutoModelForSequenceClassification.from_pretrained(model_type, config=config)\n",
    "model_02 = AutoModelForSequenceClassification.from_pretrained(model_type, config=config)\n",
    "model_03 = AutoModelForSequenceClassification.from_pretrained(model_type, config=config)\n",
    "model_04 = AutoModelForSequenceClassification.from_pretrained(model_type, config=config)\n",
    "model_05 = AutoModelForSequenceClassification.from_pretrained(model_type, config=config)"
   ]
  },
  {
   "cell_type": "code",
   "execution_count": null,
   "id": "1899976d",
   "metadata": {},
   "outputs": [],
   "source": [
    "def tokenize_texts(texts, tokenizer, max_len=352):\n",
    "    return tokenizer(texts, padding='max_length', truncation=True, max_length=max_len, add_special_tokens=False , return_tensors='pt')\n",
    "\n",
    "class NewsDataset(Dataset):\n",
    "    def __init__(self, texts, labels, tokenizer, max_len):\n",
    "        self.texts = texts\n",
    "        self.labels = labels\n",
    "        self.tokenizer = tokenizer\n",
    "        self.max_len = max_len\n",
    "\n",
    "    def __len__(self):\n",
    "        return len(self.texts)\n",
    "\n",
    "    def __getitem__(self, idx):\n",
    "        text = self.texts[idx]\n",
    "        label = self.labels[idx]\n",
    "        encoding = tokenize_texts(text, self.tokenizer, self.max_len)\n",
    "        return {'input_ids': encoding['input_ids'][0], 'attention_mask': encoding['attention_mask'][0], 'label': torch.tensor(label)}"
   ]
  },
  {
   "cell_type": "markdown",
   "id": "e24cfbd7",
   "metadata": {},
   "source": [
    "### Data_loader"
   ]
  },
  {
   "cell_type": "code",
   "execution_count": null,
   "id": "7c63c9a5",
   "metadata": {},
   "outputs": [],
   "source": [
    "k_folds = [0, 1, 2, 3, 4]\n",
    "train_indices = []\n",
    "val_indices = []"
   ]
  },
  {
   "cell_type": "code",
   "execution_count": null,
   "id": "6d31f5e4",
   "metadata": {},
   "outputs": [],
   "source": [
    "train_index = train.iloc[list(range(0, 24780, 10))]"
   ]
  },
  {
   "cell_type": "code",
   "execution_count": null,
   "id": "40d1d7f3",
   "metadata": {},
   "outputs": [],
   "source": [
    "skf = StratifiedKFold(n_splits=5, shuffle=True, random_state=42)\n",
    "train_val_splits = list(skf.split(train_index, train_index['first_party_winner']))"
   ]
  },
  {
   "cell_type": "code",
   "execution_count": null,
   "id": "d7769268",
   "metadata": {},
   "outputs": [],
   "source": [
    "for k_fold in k_folds:\n",
    "    train_train =  list(train_index.iloc[train_val_splits[k_fold][0],:].index)\n",
    "    train_val =  list(train_index.iloc[train_val_splits[k_fold][1],:].index)\n",
    "\n",
    "    train_list = train_train[:]\n",
    "    val_list = train_val[:]\n",
    "\n",
    "    for num in train_train:\n",
    "        for i in range(1, 10):\n",
    "            new_value = num + i\n",
    "            train_list.append(new_value)\n",
    "\n",
    "    for num in train_val:\n",
    "        for i in range(1, 10):\n",
    "            new_value = num + i\n",
    "            val_list.append(new_value)\n",
    "\n",
    "    train_list = sorted(train_list)\n",
    "    val_list = sorted(val_list)\n",
    "\n",
    "    train_indices.append(sorted(train_list))\n",
    "    val_indices.append(sorted(val_list))"
   ]
  },
  {
   "cell_type": "code",
   "execution_count": null,
   "id": "a5494c6f",
   "metadata": {},
   "outputs": [],
   "source": [
    "train_data_01 = train.iloc[train_indices[0]]\n",
    "val_data_01 = train.iloc[val_indices[0]]\n",
    "\n",
    "train_data_02 = train.iloc[train_indices[1]]\n",
    "val_data_02 = train.iloc[val_indices[1]]\n",
    "\n",
    "train_data_03 = train.iloc[train_indices[2]]\n",
    "val_data_03 = train.iloc[val_indices[2]]\n",
    "\n",
    "train_data_04 = train.iloc[train_indices[3]]\n",
    "val_data_04 = train.iloc[val_indices[3]]\n",
    "\n",
    "train_data_05 = train.iloc[train_indices[4]]\n",
    "val_data_05 = train.iloc[val_indices[4]]"
   ]
  },
  {
   "cell_type": "code",
   "execution_count": null,
   "id": "2dbbf1f4",
   "metadata": {},
   "outputs": [],
   "source": [
    "train_dataset_01 = NewsDataset(train_data_01['facts'].to_numpy(), train_data_01['first_party_winner'].to_numpy(), tokenizer, max_len=352)\n",
    "val_dataset_01 = NewsDataset(val_data_01['facts'].to_numpy(), val_data_01['first_party_winner'].to_numpy(), tokenizer, max_len=352)\n",
    "\n",
    "train_dataset_02 = NewsDataset(train_data_02['facts'].to_numpy(), train_data_02['first_party_winner'].to_numpy(), tokenizer, max_len=352)\n",
    "val_dataset_02 = NewsDataset(val_data_02['facts'].to_numpy(), val_data_02['first_party_winner'].to_numpy(), tokenizer, max_len=352)\n",
    "\n",
    "train_dataset_03 = NewsDataset(train_data_03['facts'].to_numpy(), train_data_03['first_party_winner'].to_numpy(), tokenizer, max_len=352)\n",
    "val_dataset_03 = NewsDataset(val_data_03['facts'].to_numpy(), val_data_03['first_party_winner'].to_numpy(), tokenizer, max_len=352)\n",
    "\n",
    "train_dataset_04 = NewsDataset(train_data_04['facts'].to_numpy(), train_data_04['first_party_winner'].to_numpy(), tokenizer, max_len=352)\n",
    "val_dataset_04 = NewsDataset(val_data_04['facts'].to_numpy(), val_data_04['first_party_winner'].to_numpy(), tokenizer, max_len=352)\n",
    "\n",
    "train_dataset_05 = NewsDataset(train_data_05['facts'].to_numpy(), train_data_05['first_party_winner'].to_numpy(), tokenizer, max_len=352)\n",
    "val_dataset_05 = NewsDataset(val_data_05['facts'].to_numpy(), val_data_05['first_party_winner'].to_numpy(), tokenizer, max_len=352)"
   ]
  },
  {
   "cell_type": "code",
   "execution_count": null,
   "id": "90c3b715",
   "metadata": {},
   "outputs": [],
   "source": [
    "train_loader_01 = DataLoader(train_dataset_01, batch_size=32, shuffle=True)\n",
    "val_loader_01 = DataLoader(val_dataset_01, batch_size=32, shuffle=False)\n",
    "\n",
    "train_loader_02 = DataLoader(train_dataset_02, batch_size=32, shuffle=True)\n",
    "val_loader_02 = DataLoader(val_dataset_02, batch_size=32, shuffle=False)\n",
    "\n",
    "train_loader_03 = DataLoader(train_dataset_03, batch_size=32, shuffle=True)\n",
    "val_loader_03 = DataLoader(val_dataset_03, batch_size=32, shuffle=False)\n",
    "\n",
    "train_loader_04 = DataLoader(train_dataset_04, batch_size=32, shuffle=True)\n",
    "val_loader_04 = DataLoader(val_dataset_04, batch_size=32, shuffle=False)\n",
    "\n",
    "train_loader_05 = DataLoader(train_dataset_05, batch_size=32, shuffle=True)\n",
    "val_loader_05 = DataLoader(val_dataset_05, batch_size=32, shuffle=False)"
   ]
  },
  {
   "cell_type": "markdown",
   "id": "63581fab",
   "metadata": {},
   "source": [
    "# Modeling"
   ]
  },
  {
   "cell_type": "code",
   "execution_count": null,
   "id": "230dafac",
   "metadata": {},
   "outputs": [],
   "source": [
    "device = torch.device('cuda' if torch.cuda.is_available() else 'cpu')\n",
    "model_01.to(device)\n",
    "model_02.to(device)\n",
    "model_03.to(device)\n",
    "model_04.to(device)\n",
    "model_05.to(device)"
   ]
  },
  {
   "cell_type": "code",
   "execution_count": null,
   "id": "993ee702",
   "metadata": {},
   "outputs": [],
   "source": [
    "class LabelSmoothingLoss(torch.nn.Module):\n",
    "    def __init__(self, classes, smoothing=0.1, dim=-1):\n",
    "        super(LabelSmoothingLoss, self).__init__()\n",
    "        self.confidence = 1.0 - smoothing\n",
    "        self.smoothing = smoothing\n",
    "        self.cls = classes\n",
    "        self.dim = dim\n",
    "\n",
    "    def forward(self, pred, target):\n",
    "        pred = pred.log_softmax(dim=self.dim)\n",
    "        with torch.no_grad():\n",
    "            true_dist = torch.zeros_like(pred)\n",
    "            true_dist.fill_(self.smoothing / (self.cls - 1))\n",
    "            true_dist.scatter_(1, target.data.unsqueeze(1), self.confidence)\n",
    "        return torch.mean(torch.sum(-true_dist * pred, dim=self.dim))"
   ]
  },
  {
   "cell_type": "code",
   "execution_count": null,
   "id": "b159a280",
   "metadata": {},
   "outputs": [],
   "source": [
    "optimizer_01 = AdamW(model_01.parameters(), lr=1e-5)\n",
    "optimizer_02 = AdamW(model_02.parameters(), lr=1e-5)\n",
    "optimizer_03 = AdamW(model_03.parameters(), lr=1e-5)\n",
    "optimizer_04 = AdamW(model_04.parameters(), lr=1e-5)\n",
    "optimizer_05 = AdamW(model_05.parameters(), lr=1e-5)"
   ]
  },
  {
   "cell_type": "code",
   "execution_count": null,
   "id": "f4154f5f",
   "metadata": {},
   "outputs": [],
   "source": [
    "# Loss function\n",
    "num_classes = 2\n",
    "smoothing = 0.01\n",
    "criterion = LabelSmoothingLoss(classes=num_classes, smoothing=smoothing).to(device)"
   ]
  },
  {
   "cell_type": "code",
   "execution_count": null,
   "id": "388ef9f3",
   "metadata": {},
   "outputs": [],
   "source": [
    "# Step 7: Training and validation\n",
    "def train(model, data_loader, optimizer, device):\n",
    "    model.train()\n",
    "    losses = []\n",
    "    for batch in data_loader:\n",
    "        input_ids = batch['input_ids'].to(device)\n",
    "        attention_mask = batch['attention_mask'].to(device)\n",
    "        labels = batch['label'].to(device)\n",
    "\n",
    "        outputs = model(input_ids, attention_mask=attention_mask, labels=labels)\n",
    "        logits = outputs.logits\n",
    "\n",
    "        loss = criterion(logits, labels)\n",
    "        losses.append(loss.item())\n",
    "\n",
    "        loss.backward()\n",
    "        optimizer.step()\n",
    "        optimizer.zero_grad()\n",
    "    return np.mean(losses)\n",
    "\n",
    "\n",
    "\n",
    "\n",
    "def eval(model, data_loader, device):\n",
    "    model.eval()\n",
    "    y_true, y_pred = [], []\n",
    "    with torch.no_grad():\n",
    "        for batch in data_loader:\n",
    "            input_ids = batch['input_ids'].to(device)\n",
    "            attention_mask = batch['attention_mask'].to(device)\n",
    "            labels = batch['label'].to(device)\n",
    "            outputs = model(input_ids, attention_mask=attention_mask)\n",
    "            predictions = torch.argmax(outputs.logits, dim=1)\n",
    "            y_true.extend(labels.cpu().numpy())\n",
    "            y_pred.extend(predictions.cpu().numpy())\n",
    "    return y_true, y_pred"
   ]
  },
  {
   "cell_type": "markdown",
   "id": "298d5e87",
   "metadata": {},
   "source": [
    "## Model_01 - Kfold[1]"
   ]
  },
  {
   "cell_type": "code",
   "execution_count": null,
   "id": "d09754fe",
   "metadata": {
    "scrolled": true
   },
   "outputs": [],
   "source": [
    "train_loader = [train_loader_01, train_loader_02, train_loader_03, train_loader_04, train_loader_05]\n",
    "val_loader = [val_loader_01, val_loader_02, val_loader_03, val_loader_04, val_loader_05]\n",
    "model_loader = [model_01, model_02, model_03, model_04, model_05]\n",
    "optimizer_loader = [optimizer_01, optimizer_02, optimizer_03, optimizer_04, optimizer_05]\n",
    "\n",
    "\n",
    "best_accuracy_01 = 0\n",
    "\n",
    "for epoch in range(10):\n",
    "    print(f\"Epoch: {epoch+1}\")\n",
    "    train_loss = train(model_loader[0], train_loader[0], optimizer_loader[0], device)\n",
    "    print(f\"Train Loss: {train_loss}\")\n",
    "    y_true_train, y_pred_train = eval(model_loader[0], train_loader[0], device)\n",
    "    y_true_val, y_pred_val = eval(model_loader[0], val_loader[0], device)\n",
    "\n",
    "    train_accuracy = accuracy_score(y_true_train, y_pred_train)\n",
    "    val_accuracy = accuracy_score(y_true_val, y_pred_val)\n",
    "\n",
    "    print(f\"Train Accuracy: {train_accuracy}\")\n",
    "    print(f\"Val Accuracy: {val_accuracy}\")\n",
    "    print(classification_report(y_true_val, y_pred_val))\n",
    "\n",
    "    if val_accuracy > best_accuracy_01:\n",
    "        best_accuracy_01 = val_accuracy\n",
    "        torch.save(model_loader[0].state_dict(), f'model_fine_loader[0]_{k_folds[0]}.pt')\n",
    "\n",
    "    torch.cuda.empty_cache()"
   ]
  },
  {
   "cell_type": "code",
   "execution_count": null,
   "id": "538f6a44",
   "metadata": {},
   "outputs": [],
   "source": [
    "best_accuracy_01"
   ]
  },
  {
   "cell_type": "code",
   "execution_count": null,
   "id": "8f028512",
   "metadata": {},
   "outputs": [],
   "source": [
    "submit = pd.read_csv('./data/sample_submission.csv')"
   ]
  },
  {
   "cell_type": "code",
   "execution_count": null,
   "id": "40e71a6a",
   "metadata": {},
   "outputs": [],
   "source": [
    "model_01.load_state_dict(torch.load(f'model_fine_loader[0]_1.pt'))\n",
    "test_dataset = NewsDataset(test['facts'].to_numpy(), np.zeros(len(test)), tokenizer, max_len=352)\n",
    "test_loader = DataLoader(test_dataset, batch_size=32, shuffle=False)\n",
    "_, test_predictions = eval(model_01, test_loader, device)\n",
    "submit['first_party_winner_01'] = test_predictions"
   ]
  },
  {
   "cell_type": "code",
   "execution_count": null,
   "id": "4a6c8a4e",
   "metadata": {},
   "outputs": [],
   "source": [
    "submit_01 = submit.copy()"
   ]
  },
  {
   "cell_type": "code",
   "execution_count": null,
   "id": "248eba39",
   "metadata": {},
   "outputs": [],
   "source": [
    "submit_01.to_csv('submit_01_version3.csv', index = False)"
   ]
  },
  {
   "cell_type": "markdown",
   "id": "b92988c6",
   "metadata": {},
   "source": [
    "## Model_02 - Kfold[2]"
   ]
  },
  {
   "cell_type": "code",
   "execution_count": null,
   "id": "fcec222c",
   "metadata": {},
   "outputs": [],
   "source": [
    "train_loader = [train_loader_01, train_loader_02, train_loader_03, train_loader_04, train_loader_05]\n",
    "val_loader = [val_loader_01, val_loader_02, val_loader_03, val_loader_04, val_loader_05]\n",
    "model_loader = [model_01, model_02, model_03, model_04, model_05]\n",
    "optimizer_loader = [optimizer_01, optimizer_02, optimizer_03, optimizer_04, optimizer_05]\n",
    "\n",
    "\n",
    "best_accuracy_02 = 0\n",
    "\n",
    "for epoch in range(10):\n",
    "    print(f\"Epoch: {epoch+1}\")\n",
    "    train_loss = train(model_loader[1], train_loader[1], optimizer_loader[1], device)\n",
    "    print(f\"Train Loss: {train_loss}\")\n",
    "    y_true_train, y_pred_train = eval(model_loader[1], train_loader[1], device)\n",
    "    y_true_val, y_pred_val = eval(model_loader[1], val_loader[1], device)\n",
    "\n",
    "    train_accuracy = accuracy_score(y_true_train, y_pred_train)\n",
    "    val_accuracy = accuracy_score(y_true_val, y_pred_val)\n",
    "\n",
    "    print(f\"Train Accuracy: {train_accuracy}\")\n",
    "    print(f\"Val Accuracy: {val_accuracy}\")\n",
    "    print(classification_report(y_true_val, y_pred_val))\n",
    "\n",
    "    if val_accuracy > best_accuracy_02:\n",
    "        best_accuracy_02 = val_accuracy\n",
    "        torch.save(model_loader[1].state_dict(), f'model_fine_loader[1]_{k_folds[1]}.pt')\n",
    "\n",
    "    torch.cuda.empty_cache()"
   ]
  },
  {
   "cell_type": "code",
   "execution_count": null,
   "id": "0f6e6ecd",
   "metadata": {},
   "outputs": [],
   "source": [
    "best_accuracy_02"
   ]
  },
  {
   "cell_type": "code",
   "execution_count": null,
   "id": "e62bbd09",
   "metadata": {},
   "outputs": [],
   "source": [
    "submit = pd.read_csv('./data/sample_submission.csv')"
   ]
  },
  {
   "cell_type": "code",
   "execution_count": null,
   "id": "bfd399ec",
   "metadata": {},
   "outputs": [],
   "source": [
    "model_02.load_state_dict(torch.load(f'model_fine_loader[1]_2.pt'))\n",
    "test_dataset = NewsDataset(test['facts'].to_numpy(), np.zeros(len(test)), tokenizer, max_len=352)\n",
    "test_loader = DataLoader(test_dataset, batch_size=32, shuffle=False)\n",
    "_, test_predictions = eval(model_02, test_loader, device)\n",
    "submit['first_party_winner_02'] = test_predictions"
   ]
  },
  {
   "cell_type": "code",
   "execution_count": null,
   "id": "35979117",
   "metadata": {},
   "outputs": [],
   "source": [
    "submit_02 = submit.copy()"
   ]
  },
  {
   "cell_type": "code",
   "execution_count": null,
   "id": "92115004",
   "metadata": {},
   "outputs": [],
   "source": [
    "submit_02.to_csv('submit_02_version3.csv', index = False)"
   ]
  },
  {
   "cell_type": "markdown",
   "id": "88094d05",
   "metadata": {},
   "source": [
    "## Model_03 - Kfold[3]"
   ]
  },
  {
   "cell_type": "code",
   "execution_count": 20,
   "id": "4843ed3c",
   "metadata": {},
   "outputs": [
    {
     "name": "stdout",
     "output_type": "stream",
     "text": [
      "Epoch: 1\n",
      "Train Loss: 0.758619368364734\n",
      "Train Accuracy: 0.5002522704339052\n",
      "Val Accuracy: 0.4993951612903226\n",
      "              precision    recall  f1-score   support\n",
      "\n",
      "           0       0.50      1.00      0.67      2480\n",
      "           1       0.33      0.00      0.00      2480\n",
      "\n",
      "    accuracy                           0.50      4960\n",
      "   macro avg       0.42      0.50      0.33      4960\n",
      "weighted avg       0.42      0.50      0.33      4960\n",
      "\n",
      "Epoch: 2\n",
      "Train Loss: 0.7514975108446613\n",
      "Train Accuracy: 0.5050958627648839\n",
      "Val Accuracy: 0.49556451612903224\n",
      "              precision    recall  f1-score   support\n",
      "\n",
      "           0       0.50      0.97      0.66      2480\n",
      "           1       0.42      0.02      0.04      2480\n",
      "\n",
      "    accuracy                           0.50      4960\n",
      "   macro avg       0.46      0.50      0.35      4960\n",
      "weighted avg       0.46      0.50      0.35      4960\n",
      "\n",
      "Epoch: 3\n",
      "Train Loss: 0.6018260053569271\n",
      "Train Accuracy: 0.951765893037336\n",
      "Val Accuracy: 0.5058467741935484\n",
      "              precision    recall  f1-score   support\n",
      "\n",
      "           0       0.51      0.48      0.49      2480\n",
      "           1       0.51      0.53      0.52      2480\n",
      "\n",
      "    accuracy                           0.51      4960\n",
      "   macro avg       0.51      0.51      0.51      4960\n",
      "weighted avg       0.51      0.51      0.51      4960\n",
      "\n",
      "Epoch: 4\n",
      "Train Loss: 0.1872865370805225\n",
      "Train Accuracy: 0.9979313824419778\n",
      "Val Accuracy: 0.5381048387096774\n",
      "              precision    recall  f1-score   support\n",
      "\n",
      "           0       0.54      0.53      0.53      2480\n",
      "           1       0.54      0.55      0.54      2480\n",
      "\n",
      "    accuracy                           0.54      4960\n",
      "   macro avg       0.54      0.54      0.54      4960\n",
      "weighted avg       0.54      0.54      0.54      4960\n",
      "\n",
      "Epoch: 5\n",
      "Train Loss: 0.1330549368454564\n",
      "Train Accuracy: 0.9992431886982845\n",
      "Val Accuracy: 0.5034274193548387\n",
      "              precision    recall  f1-score   support\n",
      "\n",
      "           0       0.50      0.49      0.50      2480\n",
      "           1       0.50      0.52      0.51      2480\n",
      "\n",
      "    accuracy                           0.50      4960\n",
      "   macro avg       0.50      0.50      0.50      4960\n",
      "weighted avg       0.50      0.50      0.50      4960\n",
      "\n",
      "Epoch: 6\n",
      "Train Loss: 0.12618251823850216\n",
      "Train Accuracy: 0.9989404641775984\n",
      "Val Accuracy: 0.5036290322580645\n",
      "              precision    recall  f1-score   support\n",
      "\n",
      "           0       0.50      0.49      0.50      2480\n",
      "           1       0.50      0.51      0.51      2480\n",
      "\n",
      "    accuracy                           0.50      4960\n",
      "   macro avg       0.50      0.50      0.50      4960\n",
      "weighted avg       0.50      0.50      0.50      4960\n",
      "\n",
      "Epoch: 7\n",
      "Train Loss: 0.12262434191521138\n",
      "Train Accuracy: 0.9992431886982845\n",
      "Val Accuracy: 0.5171370967741935\n",
      "              precision    recall  f1-score   support\n",
      "\n",
      "           0       0.52      0.50      0.51      2480\n",
      "           1       0.52      0.53      0.52      2480\n",
      "\n",
      "    accuracy                           0.52      4960\n",
      "   macro avg       0.52      0.52      0.52      4960\n",
      "weighted avg       0.52      0.52      0.52      4960\n",
      "\n",
      "Epoch: 8\n",
      "Train Loss: 0.12025280743837356\n",
      "Train Accuracy: 0.9992431886982845\n",
      "Val Accuracy: 0.5262096774193549\n",
      "              precision    recall  f1-score   support\n",
      "\n",
      "           0       0.53      0.55      0.54      2480\n",
      "           1       0.53      0.51      0.52      2480\n",
      "\n",
      "    accuracy                           0.53      4960\n",
      "   macro avg       0.53      0.53      0.53      4960\n",
      "weighted avg       0.53      0.53      0.53      4960\n",
      "\n",
      "Epoch: 9\n"
     ]
    },
    {
     "ename": "KeyboardInterrupt",
     "evalue": "",
     "output_type": "error",
     "traceback": [
      "\u001b[0;31m---------------------------------------------------------------------------\u001b[0m",
      "\u001b[0;31mKeyboardInterrupt\u001b[0m                         Traceback (most recent call last)",
      "\u001b[0;32m/tmp/ipykernel_312/1443059537.py\u001b[0m in \u001b[0;36m<module>\u001b[0;34m\u001b[0m\n\u001b[1;32m      9\u001b[0m \u001b[0;32mfor\u001b[0m \u001b[0mepoch\u001b[0m \u001b[0;32min\u001b[0m \u001b[0mrange\u001b[0m\u001b[0;34m(\u001b[0m\u001b[0;36m10\u001b[0m\u001b[0;34m)\u001b[0m\u001b[0;34m:\u001b[0m\u001b[0;34m\u001b[0m\u001b[0;34m\u001b[0m\u001b[0m\n\u001b[1;32m     10\u001b[0m     \u001b[0mprint\u001b[0m\u001b[0;34m(\u001b[0m\u001b[0;34mf\"Epoch: {epoch+1}\"\u001b[0m\u001b[0;34m)\u001b[0m\u001b[0;34m\u001b[0m\u001b[0;34m\u001b[0m\u001b[0m\n\u001b[0;32m---> 11\u001b[0;31m     \u001b[0mtrain_loss\u001b[0m \u001b[0;34m=\u001b[0m \u001b[0mtrain\u001b[0m\u001b[0;34m(\u001b[0m\u001b[0mmodel_loader\u001b[0m\u001b[0;34m[\u001b[0m\u001b[0;36m2\u001b[0m\u001b[0;34m]\u001b[0m\u001b[0;34m,\u001b[0m \u001b[0mtrain_loader\u001b[0m\u001b[0;34m[\u001b[0m\u001b[0;36m2\u001b[0m\u001b[0;34m]\u001b[0m\u001b[0;34m,\u001b[0m \u001b[0moptimizer_loader\u001b[0m\u001b[0;34m[\u001b[0m\u001b[0;36m2\u001b[0m\u001b[0;34m]\u001b[0m\u001b[0;34m,\u001b[0m \u001b[0mdevice\u001b[0m\u001b[0;34m)\u001b[0m\u001b[0;34m\u001b[0m\u001b[0;34m\u001b[0m\u001b[0m\n\u001b[0m\u001b[1;32m     12\u001b[0m     \u001b[0mprint\u001b[0m\u001b[0;34m(\u001b[0m\u001b[0;34mf\"Train Loss: {train_loss}\"\u001b[0m\u001b[0;34m)\u001b[0m\u001b[0;34m\u001b[0m\u001b[0;34m\u001b[0m\u001b[0m\n\u001b[1;32m     13\u001b[0m     \u001b[0my_true_train\u001b[0m\u001b[0;34m,\u001b[0m \u001b[0my_pred_train\u001b[0m \u001b[0;34m=\u001b[0m \u001b[0meval\u001b[0m\u001b[0;34m(\u001b[0m\u001b[0mmodel_loader\u001b[0m\u001b[0;34m[\u001b[0m\u001b[0;36m2\u001b[0m\u001b[0;34m]\u001b[0m\u001b[0;34m,\u001b[0m \u001b[0mtrain_loader\u001b[0m\u001b[0;34m[\u001b[0m\u001b[0;36m2\u001b[0m\u001b[0;34m]\u001b[0m\u001b[0;34m,\u001b[0m \u001b[0mdevice\u001b[0m\u001b[0;34m)\u001b[0m\u001b[0;34m\u001b[0m\u001b[0;34m\u001b[0m\u001b[0m\n",
      "\u001b[0;32m/tmp/ipykernel_312/1289472039.py\u001b[0m in \u001b[0;36mtrain\u001b[0;34m(model, data_loader, optimizer, device)\u001b[0m\n\u001b[1;32m     14\u001b[0m         \u001b[0mlosses\u001b[0m\u001b[0;34m.\u001b[0m\u001b[0mappend\u001b[0m\u001b[0;34m(\u001b[0m\u001b[0mloss\u001b[0m\u001b[0;34m.\u001b[0m\u001b[0mitem\u001b[0m\u001b[0;34m(\u001b[0m\u001b[0;34m)\u001b[0m\u001b[0;34m)\u001b[0m\u001b[0;34m\u001b[0m\u001b[0;34m\u001b[0m\u001b[0m\n\u001b[1;32m     15\u001b[0m \u001b[0;34m\u001b[0m\u001b[0m\n\u001b[0;32m---> 16\u001b[0;31m         \u001b[0mloss\u001b[0m\u001b[0;34m.\u001b[0m\u001b[0mbackward\u001b[0m\u001b[0;34m(\u001b[0m\u001b[0;34m)\u001b[0m\u001b[0;34m\u001b[0m\u001b[0;34m\u001b[0m\u001b[0m\n\u001b[0m\u001b[1;32m     17\u001b[0m         \u001b[0moptimizer\u001b[0m\u001b[0;34m.\u001b[0m\u001b[0mstep\u001b[0m\u001b[0;34m(\u001b[0m\u001b[0;34m)\u001b[0m\u001b[0;34m\u001b[0m\u001b[0;34m\u001b[0m\u001b[0m\n\u001b[1;32m     18\u001b[0m         \u001b[0moptimizer\u001b[0m\u001b[0;34m.\u001b[0m\u001b[0mzero_grad\u001b[0m\u001b[0;34m(\u001b[0m\u001b[0;34m)\u001b[0m\u001b[0;34m\u001b[0m\u001b[0;34m\u001b[0m\u001b[0m\n",
      "\u001b[0;32m/opt/conda/lib/python3.8/site-packages/torch/_tensor.py\u001b[0m in \u001b[0;36mbackward\u001b[0;34m(self, gradient, retain_graph, create_graph, inputs)\u001b[0m\n\u001b[1;32m    486\u001b[0m                 \u001b[0minputs\u001b[0m\u001b[0;34m=\u001b[0m\u001b[0minputs\u001b[0m\u001b[0;34m,\u001b[0m\u001b[0;34m\u001b[0m\u001b[0;34m\u001b[0m\u001b[0m\n\u001b[1;32m    487\u001b[0m             )\n\u001b[0;32m--> 488\u001b[0;31m         torch.autograd.backward(\n\u001b[0m\u001b[1;32m    489\u001b[0m             \u001b[0mself\u001b[0m\u001b[0;34m,\u001b[0m \u001b[0mgradient\u001b[0m\u001b[0;34m,\u001b[0m \u001b[0mretain_graph\u001b[0m\u001b[0;34m,\u001b[0m \u001b[0mcreate_graph\u001b[0m\u001b[0;34m,\u001b[0m \u001b[0minputs\u001b[0m\u001b[0;34m=\u001b[0m\u001b[0minputs\u001b[0m\u001b[0;34m\u001b[0m\u001b[0;34m\u001b[0m\u001b[0m\n\u001b[1;32m    490\u001b[0m         )\n",
      "\u001b[0;32m/opt/conda/lib/python3.8/site-packages/torch/autograd/__init__.py\u001b[0m in \u001b[0;36mbackward\u001b[0;34m(tensors, grad_tensors, retain_graph, create_graph, grad_variables, inputs)\u001b[0m\n\u001b[1;32m    195\u001b[0m     \u001b[0;31m# some Python versions print out the first line of a multi-line function\u001b[0m\u001b[0;34m\u001b[0m\u001b[0;34m\u001b[0m\u001b[0;34m\u001b[0m\u001b[0m\n\u001b[1;32m    196\u001b[0m     \u001b[0;31m# calls in the traceback and some print out the last line\u001b[0m\u001b[0;34m\u001b[0m\u001b[0;34m\u001b[0m\u001b[0;34m\u001b[0m\u001b[0m\n\u001b[0;32m--> 197\u001b[0;31m     Variable._execution_engine.run_backward(  # Calls into the C++ engine to run the backward pass\n\u001b[0m\u001b[1;32m    198\u001b[0m         \u001b[0mtensors\u001b[0m\u001b[0;34m,\u001b[0m \u001b[0mgrad_tensors_\u001b[0m\u001b[0;34m,\u001b[0m \u001b[0mretain_graph\u001b[0m\u001b[0;34m,\u001b[0m \u001b[0mcreate_graph\u001b[0m\u001b[0;34m,\u001b[0m \u001b[0minputs\u001b[0m\u001b[0;34m,\u001b[0m\u001b[0;34m\u001b[0m\u001b[0;34m\u001b[0m\u001b[0m\n\u001b[1;32m    199\u001b[0m         allow_unreachable=True, accumulate_grad=True)  # Calls into the C++ engine to run the backward pass\n",
      "\u001b[0;31mKeyboardInterrupt\u001b[0m: "
     ]
    }
   ],
   "source": [
    "train_loader = [train_loader_01, train_loader_02, train_loader_03, train_loader_04, train_loader_05]\n",
    "val_loader = [val_loader_01, val_loader_02, val_loader_03, val_loader_04, val_loader_05]\n",
    "model_loader = [model_01, model_02, model_03, model_04, model_05]\n",
    "optimizer_loader = [optimizer_01, optimizer_02, optimizer_03, optimizer_04, optimizer_05]\n",
    "\n",
    "\n",
    "best_accuracy_03 = 0\n",
    "\n",
    "for epoch in range(10):\n",
    "    print(f\"Epoch: {epoch+1}\")\n",
    "    train_loss = train(model_loader[2], train_loader[2], optimizer_loader[2], device)\n",
    "    print(f\"Train Loss: {train_loss}\")\n",
    "    y_true_train, y_pred_train = eval(model_loader[2], train_loader[2], device)\n",
    "    y_true_val, y_pred_val = eval(model_loader[2], val_loader[2], device)\n",
    "\n",
    "    train_accuracy = accuracy_score(y_true_train, y_pred_train)\n",
    "    val_accuracy = accuracy_score(y_true_val, y_pred_val)\n",
    "\n",
    "    print(f\"Train Accuracy: {train_accuracy}\")\n",
    "    print(f\"Val Accuracy: {val_accuracy}\")\n",
    "    print(classification_report(y_true_val, y_pred_val))\n",
    "\n",
    "    if val_accuracy > best_accuracy_03:\n",
    "        best_accuracy_03 = val_accuracy\n",
    "        torch.save(model_loader[2].state_dict(), f'model_fine_loader[2]_{k_folds[2]}.pt')\n",
    "\n",
    "    torch.cuda.empty_cache()"
   ]
  },
  {
   "cell_type": "code",
   "execution_count": 21,
   "id": "b7b49e8f",
   "metadata": {},
   "outputs": [
    {
     "data": {
      "text/plain": [
       "0.5381048387096774"
      ]
     },
     "execution_count": 21,
     "metadata": {},
     "output_type": "execute_result"
    }
   ],
   "source": [
    "best_accuracy_03"
   ]
  },
  {
   "cell_type": "code",
   "execution_count": 23,
   "id": "6f272701",
   "metadata": {},
   "outputs": [],
   "source": [
    "submit = pd.read_csv('./data/sample_submission.csv')"
   ]
  },
  {
   "cell_type": "code",
   "execution_count": 24,
   "id": "6e440a29",
   "metadata": {},
   "outputs": [],
   "source": [
    "model_03.load_state_dict(torch.load(f'model_fine_loader[2]_2.pt'))\n",
    "test_dataset = NewsDataset(test['facts'].to_numpy(), np.zeros(len(test)), tokenizer, max_len=352)\n",
    "test_loader = DataLoader(test_dataset, batch_size=32, shuffle=False)\n",
    "_, test_predictions = eval(model_03, test_loader, device)\n",
    "submit['first_party_winner_03'] = test_predictions"
   ]
  },
  {
   "cell_type": "code",
   "execution_count": 25,
   "id": "3819427c",
   "metadata": {},
   "outputs": [],
   "source": [
    "submit_03 = submit.copy()"
   ]
  },
  {
   "cell_type": "code",
   "execution_count": 26,
   "id": "749d019c",
   "metadata": {},
   "outputs": [],
   "source": [
    "submit_03.to_csv('submit_03_version4.csv', index = False)"
   ]
  },
  {
   "cell_type": "markdown",
   "id": "92054894",
   "metadata": {},
   "source": [
    "## Model_04 - Kfold[4]"
   ]
  },
  {
   "cell_type": "code",
   "execution_count": null,
   "id": "87193746",
   "metadata": {},
   "outputs": [],
   "source": [
    "train_loader = [train_loader_01, train_loader_02, train_loader_03, train_loader_04, train_loader_05]\n",
    "val_loader = [val_loader_01, val_loader_02, val_loader_03, val_loader_04, val_loader_05]\n",
    "model_loader = [model_01, model_02, model_03, model_04, model_05]\n",
    "optimizer_loader = [optimizer_01, optimizer_02, optimizer_03, optimizer_04, optimizer_05]\n",
    "\n",
    "\n",
    "best_accuracy_04 = 0\n",
    "\n",
    "for epoch in range(10):\n",
    "    print(f\"Epoch: {epoch+1}\")\n",
    "    train_loss = train(model_loader[3], train_loader[3], optimizer_loader[3], device)\n",
    "    print(f\"Train Loss: {train_loss}\")\n",
    "    y_true_train, y_pred_train = eval(model_loader[3], train_loader[3], device)\n",
    "    y_true_val, y_pred_val = eval(model_loader[3], val_loader[3], device)\n",
    "\n",
    "    train_accuracy = accuracy_score(y_true_train, y_pred_train)\n",
    "    val_accuracy = accuracy_score(y_true_val, y_pred_val)\n",
    "\n",
    "    print(f\"Train Accuracy: {train_accuracy}\")\n",
    "    print(f\"Val Accuracy: {val_accuracy}\")\n",
    "    print(classification_report(y_true_val, y_pred_val))\n",
    "\n",
    "    if val_accuracy > best_accuracy_04:\n",
    "        best_accuracy_04 = val_accuracy\n",
    "        torch.save(model_loader[3].state_dict(), f'model_fine_loader[3]_{k_folds[3]}.pt')\n",
    "\n",
    "    torch.cuda.empty_cache()"
   ]
  },
  {
   "cell_type": "code",
   "execution_count": null,
   "id": "75f9c00c",
   "metadata": {},
   "outputs": [],
   "source": [
    "best_accuracy_04"
   ]
  },
  {
   "cell_type": "code",
   "execution_count": null,
   "id": "733b46a3",
   "metadata": {},
   "outputs": [],
   "source": [
    "submit = pd.read_csv('./data/sample_submission.csv')"
   ]
  },
  {
   "cell_type": "code",
   "execution_count": null,
   "id": "6a84113e",
   "metadata": {},
   "outputs": [],
   "source": [
    "model_04.load_state_dict(torch.load(f'model_fine_loader[3]_4.pt'))\n",
    "test_dataset = NewsDataset(test['facts'].to_numpy(), np.zeros(len(test)), tokenizer, max_len=352)\n",
    "test_loader = DataLoader(test_dataset, batch_size=32, shuffle=False)\n",
    "_, test_predictions = eval(model_04, test_loader, device)\n",
    "submit['first_party_winner_04'] = test_predictions"
   ]
  },
  {
   "cell_type": "code",
   "execution_count": null,
   "id": "22482e97",
   "metadata": {},
   "outputs": [],
   "source": [
    "submit_04 = submit.copy()"
   ]
  },
  {
   "cell_type": "code",
   "execution_count": null,
   "id": "ad06eb95",
   "metadata": {},
   "outputs": [],
   "source": [
    "submit_04.to_csv('submit_04_version3.csv', index = False)"
   ]
  },
  {
   "cell_type": "markdown",
   "id": "8393b3fc",
   "metadata": {},
   "source": [
    "## Model_05 - Kfold[5]"
   ]
  },
  {
   "cell_type": "code",
   "execution_count": null,
   "id": "badbc268",
   "metadata": {},
   "outputs": [],
   "source": [
    "train_loader = [train_loader_01, train_loader_02, train_loader_03, train_loader_04, train_loader_05]\n",
    "val_loader = [val_loader_01, val_loader_02, val_loader_03, val_loader_04, val_loader_05]\n",
    "model_loader = [model_01, model_02, model_03, model_04, model_05]\n",
    "optimizer_loader = [optimizer_01, optimizer_02, optimizer_03, optimizer_04, optimizer_05]\n",
    "\n",
    "\n",
    "best_accuracy_05 = 0\n",
    "\n",
    "for epoch in range(10):\n",
    "    print(f\"Epoch: {epoch+1}\")\n",
    "    train_loss = train(model_loader[4], train_loader[4], optimizer_loader[4], device)\n",
    "    print(f\"Train Loss: {train_loss}\")\n",
    "    y_true_train, y_pred_train = eval(model_loader[4], train_loader[4], device)\n",
    "    y_true_val, y_pred_val = eval(model_loader[4], val_loader[4], device)\n",
    "\n",
    "    train_accuracy = accuracy_score(y_true_train, y_pred_train)\n",
    "    val_accuracy = accuracy_score(y_true_val, y_pred_val)\n",
    "\n",
    "    print(f\"Train Accuracy: {train_accuracy}\")\n",
    "    print(f\"Val Accuracy: {val_accuracy}\")\n",
    "    print(classification_report(y_true_val, y_pred_val))\n",
    "\n",
    "    if val_accuracy > best_accuracy_05:\n",
    "        best_accuracy_05 = val_accuracy\n",
    "        torch.save(model_loader[4].state_dict(), f'model_fine_loader[4]_{k_folds[4]}.pt')\n",
    "\n",
    "    torch.cuda.empty_cache()"
   ]
  },
  {
   "cell_type": "code",
   "execution_count": null,
   "id": "870c8367",
   "metadata": {},
   "outputs": [],
   "source": [
    "best_accuracy_05"
   ]
  },
  {
   "cell_type": "code",
   "execution_count": null,
   "id": "5c7668a5",
   "metadata": {},
   "outputs": [],
   "source": [
    "submit = pd.read_csv('./data/sample_submission.csv')"
   ]
  },
  {
   "cell_type": "code",
   "execution_count": null,
   "id": "55a5c3a9",
   "metadata": {},
   "outputs": [],
   "source": [
    "model_05.load_state_dict(torch.load(f'model_fine_loader[4]_4.pt'))\n",
    "test_dataset = NewsDataset(test['facts'].to_numpy(), np.zeros(len(test)), tokenizer, max_len=352)\n",
    "test_loader = DataLoader(test_dataset, batch_size=32, shuffle=False)\n",
    "_, test_predictions = eval(model_05, test_loader, device)\n",
    "submit['first_party_winner_05'] = test_predictions"
   ]
  },
  {
   "cell_type": "code",
   "execution_count": null,
   "id": "7f3e9a62",
   "metadata": {},
   "outputs": [],
   "source": [
    "submit_05 = submit.copy()"
   ]
  },
  {
   "cell_type": "code",
   "execution_count": null,
   "id": "20ffa222",
   "metadata": {},
   "outputs": [],
   "source": [
    "submit_05.to_csv('submit_05_version3.csv', index = False)"
   ]
  },
  {
   "cell_type": "markdown",
   "id": "4f640bda",
   "metadata": {},
   "source": [
    "## Ensemble"
   ]
  },
  {
   "cell_type": "code",
   "execution_count": null,
   "id": "0ad9fb6c",
   "metadata": {},
   "outputs": [],
   "source": [
    "from scipy.stats import mode"
   ]
  },
  {
   "cell_type": "code",
   "execution_count": null,
   "id": "2ddcab02",
   "metadata": {},
   "outputs": [],
   "source": [
    "submit_01 = pd.read_csv('./data/submit_01_version4.csv')\n",
    "submit_02 = pd.read_csv('./data/submit_02_version4.csv')\n",
    "submit_03 = pd.read_csv('./data/submit_03_version4.csv')\n",
    "submit_04 = pd.read_csv('./data/submit_04_version4.csv')\n",
    "submit_05 = pd.read_csv('./data/submit_05_version4.csv')\n",
    "submit_06 = pd.read_csv('/data/submit_01_version2.csv')\n",
    "submit_07 = pd.read_csv('/data/submit_02_version2.csv')\n",
    "submit_08 = pd.read_csv('/data/submit_03_version2.csv')"
   ]
  },
  {
   "cell_type": "code",
   "execution_count": null,
   "id": "c626ba79",
   "metadata": {},
   "outputs": [],
   "source": [
    "submit_06.columns = ['ID','first_party_winner','first_party_winner_06']\n",
    "submit_07.columns = ['ID','first_party_winner','first_party_winner_07']\n",
    "submit_08.columns = ['ID','first_party_winner','first_party_winner_08']"
   ]
  },
  {
   "cell_type": "code",
   "execution_count": null,
   "id": "c8599830",
   "metadata": {},
   "outputs": [],
   "source": [
    "submission = pd.merge(submit_01, submit_02, on=['ID', 'first_party_winner'])\n",
    "submission = pd.merge(submission, submit_03, on=['ID', 'first_party_winner'])\n",
    "submission = pd.merge(submission, submit_04, on=['ID', 'first_party_winner'])\n",
    "submission = pd.merge(submission, submit_05, on=['ID', 'first_party_winner'])\n",
    "submission = pd.merge(submission, submit_06, on=['ID', 'first_party_winner'])\n",
    "submission = pd.merge(submission, submit_07, on=['ID', 'first_party_winner'])\n",
    "submission = pd.merge(submission, submit_08, on=['ID', 'first_party_winner'])"
   ]
  },
  {
   "cell_type": "code",
   "execution_count": null,
   "id": "f2f98068",
   "metadata": {},
   "outputs": [],
   "source": [
    "submission['first_party_winner'] = submission[['first_party_winner_01','first_party_winner_02', 'first_party_winner_03','first_party_winner_04','first_party_winner_05','first_party_winner_06','first_party_winner_07','first_party_winner_08']].mode(axis=1)[0]"
   ]
  },
  {
   "cell_type": "code",
   "execution_count": null,
   "id": "e8b046c2",
   "metadata": {},
   "outputs": [],
   "source": [
    "submission['first_party_winner'] = submission['first_party_winner'].astype(int)"
   ]
  },
  {
   "cell_type": "code",
   "execution_count": null,
   "id": "417e999c",
   "metadata": {},
   "outputs": [],
   "source": [
    "submission"
   ]
  },
  {
   "cell_type": "code",
   "execution_count": null,
   "id": "66a0ca3d",
   "metadata": {},
   "outputs": [],
   "source": [
    "submission = submission.iloc[:,:2]"
   ]
  },
  {
   "cell_type": "code",
   "execution_count": null,
   "id": "e122c6c7",
   "metadata": {},
   "outputs": [],
   "source": [
    "submission.to_csv('submission_minsu_version_04.csv', index = False)"
   ]
  }
 ],
 "metadata": {
  "kernelspec": {
   "display_name": "Python 3 (ipykernel)",
   "language": "python",
   "name": "python3"
  },
  "language_info": {
   "codemirror_mode": {
    "name": "ipython",
    "version": 3
   },
   "file_extension": ".py",
   "mimetype": "text/x-python",
   "name": "python",
   "nbconvert_exporter": "python",
   "pygments_lexer": "ipython3",
   "version": "3.9.16"
  }
 },
 "nbformat": 4,
 "nbformat_minor": 5
}
